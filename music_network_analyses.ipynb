{
 "cells": [
  {
   "cell_type": "code",
   "execution_count": null,
   "metadata": {},
   "outputs": [],
   "source": [
    "import networkx as nx\n",
    "import numpy as np\n",
    "import matplotlib.pyplot as plt\n",
    "import csv\n",
    "import random\n",
    "import itertools\n",
    "\n",
    "# Plot does not support dollar signs\n",
    "def removeDollarSigns(s):\n",
    "    toret = ''\n",
    "    for i in range(len(s)):\n",
    "        if s[i] == '$':\n",
    "            toret += 's'\n",
    "        else:\n",
    "            toret += s[i]\n",
    "    return toret\n",
    "\n",
    "def formatData(filename):\n",
    "    toret = []\n",
    "    with open(filename, 'r') as csvfile:\n",
    "        reader = csv.reader(csvfile)\n",
    "        for row in reader:\n",
    "            toadd = []\n",
    "            artists = row[0].split('&')\n",
    "            for artist in artists:\n",
    "                toadd.append(removeDollarSigns(artist.strip()))\n",
    "            toret.append(toadd)\n",
    "    return toret\n",
    "    \n",
    "def getRandomHexColor():\n",
    "    color = \"%06x\" % random.randint(0, 0xFFFFFF)\n",
    "    color = '#' + color\n",
    "    return color\n",
    "\n",
    "# Assigns each song a unique color\n",
    "def createColorMap(collabs):\n",
    "    toret = dict()\n",
    "    used_colors = set() # Sets have average O(1) \"in\" lookup\n",
    "    for i in range(1, len(collabs) + 1):\n",
    "        # Get an unused hex color\n",
    "        color = getRandomHexColor()\n",
    "        while color in used_colors:\n",
    "            color = getRandomHexColor()\n",
    "        toret[i] = color\n",
    "    return toret\n",
    "        \n",
    "def initSongs(collabs):\n",
    "    songs = []\n",
    "    colors = createColorMap(collabs)\n",
    "    num = 1\n",
    "    for row in collabs:\n",
    "        toadd = dict()\n",
    "        toadd['artists'] = set(row)\n",
    "        toadd['color'] = colors[num]\n",
    "        toadd['song_num'] = num\n",
    "        songs.append(toadd)\n",
    "        num += 1\n",
    "    return songs\n",
    "\n",
    "def getArtists(songs):\n",
    "    toret = set()\n",
    "    for song in songs:\n",
    "        for artist in song['artists']:\n",
    "            toret.add(artist)\n",
    "    toret = list(toret)\n",
    "    return toret\n",
    "\n",
    "# Initializes vertices in the graph\n",
    "def initVertices(artists):\n",
    "    for artist in artists:\n",
    "        G.add_node(artist)\n",
    "\n",
    "#Initialize edges in the graph, given vertices and songs calculated\n",
    "def initEdges(songs):\n",
    "    for song in songs:\n",
    "        # Get each 'pair' of artists in the song's listed artists\n",
    "        pairs = itertools.combinations(song['artists'], 2)\n",
    "        # For each pair, add a new edge with unique song color\n",
    "        for pair in pairs:\n",
    "            G.add_edge(pair[0], pair[1], song['color'])\n",
    "\n",
    "# Shortest Path:\n",
    "\n",
    "def getShortestPathLength(artist1, artist2):\n",
    "    path = nx.shortest_path(artist1, artist2)\n",
    "    return len(path) - 1 # Don't include the source\n",
    "\n",
    "# Degree/Outgoing Edges:\n",
    "\n",
    "def getOutgoingEdges(artist):\n",
    "    return len(list(G[artist]))\n",
    "\n",
    "# Gets most outgoing edges of the graph\n",
    "def getMostCollaborativeArtist():\n",
    "    max_edges = 0\n",
    "    most_collaborative_artist = ''\n",
    "    for artist in artists:\n",
    "        if getOutgoingEdges(artist) > max_edges:\n",
    "            max_edges = getOutgoingEdges(artist)\n",
    "            most_collaborative_artist = artist\n",
    "    return (most_collaborative_artist, max_edges)\n",
    "\n",
    "# Get top n Collaborative Aritsts\n",
    "def getTopCollaborativeArtists(n):\n",
    "    d = {}\n",
    "    for artist in artists:\n",
    "        d[artist] = getOutgoingEdges(artist)\n",
    "    keys = sorted(d, key=d.__getitem__)\n",
    "    keys = keys[-n:]\n",
    "    toret = {}\n",
    "    for key in keys:\n",
    "        toret[key] = d[key]\n",
    "    return toret\n",
    "\n",
    "def getNumberOfHits(artist):\n",
    "    with open('performers.csv', 'r') as csvfile:\n",
    "        reader = csv.reader(csvfile)\n",
    "        hits = 0\n",
    "        for row in reader:\n",
    "            tocheck = []\n",
    "            artists = row[0].split('&')\n",
    "            for performer in artists:\n",
    "                tocheck.append(removeDollarSigns(performer.strip()))\n",
    "            if artist in tocheck:\n",
    "                hits += 1\n",
    "        return hits\n",
    "\n",
    "def getTopNumberOfHits(n):\n",
    "    d = {}\n",
    "    for artist in artists:\n",
    "        d[artist] = getNumberOfHits(artist)\n",
    "    keys = sorted(d, key=d.__getitem__)\n",
    "    keys = keys[-n:]\n",
    "    toret = {}\n",
    "    for key in keys:\n",
    "        toret[key] = d[key]\n",
    "    return toret\n",
    "            \n",
    "# Betweenness Centrality:\n",
    "\n",
    "def getShortestPaths(G, u,v):\n",
    "    # See if we can get a path first\n",
    "    try:\n",
    "        path = nx.dijkstra_path(G, u,v)\n",
    "    except nx.NetworkXNoPath:\n",
    "        return [] # If not, return an empty list\n",
    "    # Otherwise return all paths\n",
    "    return nx.all_shortest_paths(G, u, v)\n",
    "\n",
    "def getBetweenness(G):\n",
    "    betweenness = {}\n",
    "    V = []\n",
    "    # Initialize to zero\n",
    "    for v in G:\n",
    "        betweenness[v] = 0.0\n",
    "        V.append(v)\n",
    "    i = 0\n",
    "    # Choose each node as a source, get betweeness(s):\n",
    "    for s in G:\n",
    "        i += 1\n",
    "        b = 0\n",
    "        pairs = list(itertools.combinations(list(G.nodes), 2))\n",
    "        # For all pairs in G which we have not tested:\n",
    "        for (u,v) in pairs:\n",
    "                if u != s and  u != v and s != v:\n",
    "                    # Get all shortest paths\n",
    "                    shortest_paths = getShortestPaths(G,u,v)\n",
    "                    sigma_v = 0 # Paths passing through v\n",
    "                    sigma = 0 # All paths\n",
    "                    for p in shortest_paths:\n",
    "                        if s in p:\n",
    "                            sigma += 1\n",
    "                            sigma_v += 1\n",
    "                        else:\n",
    "                            sigma += 1\n",
    "                    if sigma != 0:\n",
    "                        b += sigma_v / sigma\n",
    "        betweenness[s] = b # Add to betweenenss\n",
    "    betweeness = normalizeValues(betweenness, len(artists)) #Normalize\n",
    "    return betweenness\n",
    "\n",
    "def getMaxBetweenness():\n",
    "    betweenness = getBetweenness(G)\n",
    "    max_betweenness = 0\n",
    "    max_betweenness_artist = ''\n",
    "    for artist in betweenness:\n",
    "        if betweenness[artist] >= max_betweenness:\n",
    "            max_betweenness = betweenness[artist]\n",
    "            max_betweenness_artist = artist\n",
    "    return (max_betweenness_artist, betweenness[max_betweenness_artist])\n",
    "\n",
    "# Get n top betweenness artists\n",
    "def getTopBetweenness(n):\n",
    "    d = getBetweenness(G)\n",
    "    keys = sorted(d, key=d.__getitem__)\n",
    "    keys = keys[-n:]\n",
    "    toret = {}\n",
    "    for key in keys:\n",
    "        toret[key] = d[key]\n",
    "    return toret\n",
    "\n",
    "def normalizeValues(betweenness, n):\n",
    "    # number of pairs is our normalization factor\n",
    "    factor = (n-1) * (n-2) / 2\n",
    "    factor = 1/ factor\n",
    "    for v in betweenness:\n",
    "        betweenness[v] = betweenness[v] * factor\n",
    "    return betweenness\n",
    "        \n",
    "#Graph initialization:\n",
    "\n",
    "G = nx.MultiGraph()\n",
    "collabs = formatData('./FINAL_DATA/ONLY_COLLABS_FINAL.csv') #[:50]\n",
    "songs = initSongs(collabs)\n",
    "artists = getArtists(songs)\n",
    "initVertices(artists)\n",
    "initEdges(songs)\n",
    "\n",
    "#Graph Visualization:\n",
    "layout = nx.spring_layout(G)\n",
    "nx.draw_networkx_nodes(G, layout, node_size = 10, with_labels = True)\n",
    "ax = plt.gca()\n",
    "for e in G.edges:\n",
    "    edge_color = e[2]\n",
    "    ax.annotate(\"\",\n",
    "                xy=layout[e[0]], xycoords='data',\n",
    "                xytext=layout[e[1]], textcoords='data',\n",
    "                arrowprops=dict(arrowstyle=\"-\", color=edge_color,\n",
    "                                alpha = 0.5,\n",
    "                                shrinkA=5, shrinkB=5,\n",
    "                                patchA=None, patchB=None,\n",
    "                                connectionstyle=\"arc3,rad=rrr\".replace('rrr',str(0)\n",
    "                                ),\n",
    "                                ),\n",
    "                )\n",
    "plt.axis('off')\n",
    "#nx.draw_networkx_labels(G, layout, font_size = 8)\n",
    "song_nums = nx.get_edge_attributes(G, 'song_num')\n",
    "plt.show()\n"
   ]
  },
  {
   "cell_type": "code",
   "execution_count": null,
   "metadata": {},
   "outputs": [],
   "source": [
    "# getTopBetweenness(20)"
   ]
  },
  {
   "cell_type": "code",
   "execution_count": null,
   "metadata": {},
   "outputs": [],
   "source": [
    "# getTopCollaborativeArtists(20)"
   ]
  },
  {
   "cell_type": "code",
   "execution_count": 15,
   "metadata": {
    "scrolled": true
   },
   "outputs": [
    {
     "data": {
      "application/vnd.plotly.v1+json": {
       "config": {
        "plotlyServerURL": "https://plot.ly"
       },
       "data": [
        {
         "cells": {
          "values": [
           [
            1,
            2,
            3,
            4,
            5,
            6,
            7,
            8,
            9,
            10,
            11,
            12,
            13,
            14,
            15,
            16,
            17,
            18,
            19,
            20
           ],
           [
            "Lil Wayne (77)",
            "Drake (63)",
            "Chris Brown (60)",
            "Nicki Minaj (58)",
            "Kanye West (58)",
            "DJ Khaled (49)",
            "Ludacris (39)",
            "Jay-Z (37)",
            "Future (35)",
            "Snoop Dogg (34)",
            "T-Pain (33)",
            "T.I. (32)",
            "Meek Mill (32)",
            "Pitbull (31)",
            "Justin Bieber (30)",
            "Eminem (29)",
            "2 Chainz (29)",
            "Rick Ross (29)",
            "Big Sean (29)",
            "Nelly (28)"
           ],
           [
            "Lil Wayne (0.0343)",
            "Chris Brown (0.0262)",
            "Ludacris (0.0250)",
            "Nicki Minaj (0.0245)",
            "Kanye West (0.0240)",
            "DJ Khaled (0.0212)",
            "Drake (0.0169)",
            "Snoop Dogg (0.0158)",
            "R. Kelly (0.0150)",
            "Jay-Z (0.0146)",
            "Nelly (0.0141)",
            "Christina Aguilera (0.0132)",
            "LL Cool J (0.0128)",
            "Mariah Carey (0.0121)",
            "Fat Joe (0.0121)",
            "Ricky Martin (0.0117)",
            "T-Pain (0.0110)",
            "Eminem (0.0107)",
            "Brandy (0.0104)",
            "Justin Bieber (0.0105)"
           ],
           [
            "Lil Wayne (103)",
            "Drake (87)",
            "Nicki Minaj (76)",
            "Kanye West (66)",
            "Chris Brown (66)",
            "Rick Ross (47)",
            "Future (45)",
            "Ludacris (41)",
            "T-Pain (41)",
            "Jay-Z (39)",
            "Big Sean (36)",
            "Travis Scott (36)",
            "Eminem (36)",
            "T.I. (35)",
            "2 Chainz (35)",
            "Meek Mill (33)",
            "DJ Khaled (33)",
            "Justin Bieber (33)",
            "Pitbull (31)",
            "Akon (31)"
           ]
          ]
         },
         "header": {
          "values": [
           "Rank",
           "Degree",
           "Betweenness Centrality",
           "Hits"
          ]
         },
         "type": "table"
        }
       ],
       "layout": {
        "height": 1000,
        "template": {
         "data": {
          "bar": [
           {
            "error_x": {
             "color": "#2a3f5f"
            },
            "error_y": {
             "color": "#2a3f5f"
            },
            "marker": {
             "line": {
              "color": "#E5ECF6",
              "width": 0.5
             }
            },
            "type": "bar"
           }
          ],
          "barpolar": [
           {
            "marker": {
             "line": {
              "color": "#E5ECF6",
              "width": 0.5
             }
            },
            "type": "barpolar"
           }
          ],
          "carpet": [
           {
            "aaxis": {
             "endlinecolor": "#2a3f5f",
             "gridcolor": "white",
             "linecolor": "white",
             "minorgridcolor": "white",
             "startlinecolor": "#2a3f5f"
            },
            "baxis": {
             "endlinecolor": "#2a3f5f",
             "gridcolor": "white",
             "linecolor": "white",
             "minorgridcolor": "white",
             "startlinecolor": "#2a3f5f"
            },
            "type": "carpet"
           }
          ],
          "choropleth": [
           {
            "colorbar": {
             "outlinewidth": 0,
             "ticks": ""
            },
            "type": "choropleth"
           }
          ],
          "contour": [
           {
            "colorbar": {
             "outlinewidth": 0,
             "ticks": ""
            },
            "colorscale": [
             [
              0,
              "#0d0887"
             ],
             [
              0.1111111111111111,
              "#46039f"
             ],
             [
              0.2222222222222222,
              "#7201a8"
             ],
             [
              0.3333333333333333,
              "#9c179e"
             ],
             [
              0.4444444444444444,
              "#bd3786"
             ],
             [
              0.5555555555555556,
              "#d8576b"
             ],
             [
              0.6666666666666666,
              "#ed7953"
             ],
             [
              0.7777777777777778,
              "#fb9f3a"
             ],
             [
              0.8888888888888888,
              "#fdca26"
             ],
             [
              1,
              "#f0f921"
             ]
            ],
            "type": "contour"
           }
          ],
          "contourcarpet": [
           {
            "colorbar": {
             "outlinewidth": 0,
             "ticks": ""
            },
            "type": "contourcarpet"
           }
          ],
          "heatmap": [
           {
            "colorbar": {
             "outlinewidth": 0,
             "ticks": ""
            },
            "colorscale": [
             [
              0,
              "#0d0887"
             ],
             [
              0.1111111111111111,
              "#46039f"
             ],
             [
              0.2222222222222222,
              "#7201a8"
             ],
             [
              0.3333333333333333,
              "#9c179e"
             ],
             [
              0.4444444444444444,
              "#bd3786"
             ],
             [
              0.5555555555555556,
              "#d8576b"
             ],
             [
              0.6666666666666666,
              "#ed7953"
             ],
             [
              0.7777777777777778,
              "#fb9f3a"
             ],
             [
              0.8888888888888888,
              "#fdca26"
             ],
             [
              1,
              "#f0f921"
             ]
            ],
            "type": "heatmap"
           }
          ],
          "heatmapgl": [
           {
            "colorbar": {
             "outlinewidth": 0,
             "ticks": ""
            },
            "colorscale": [
             [
              0,
              "#0d0887"
             ],
             [
              0.1111111111111111,
              "#46039f"
             ],
             [
              0.2222222222222222,
              "#7201a8"
             ],
             [
              0.3333333333333333,
              "#9c179e"
             ],
             [
              0.4444444444444444,
              "#bd3786"
             ],
             [
              0.5555555555555556,
              "#d8576b"
             ],
             [
              0.6666666666666666,
              "#ed7953"
             ],
             [
              0.7777777777777778,
              "#fb9f3a"
             ],
             [
              0.8888888888888888,
              "#fdca26"
             ],
             [
              1,
              "#f0f921"
             ]
            ],
            "type": "heatmapgl"
           }
          ],
          "histogram": [
           {
            "marker": {
             "colorbar": {
              "outlinewidth": 0,
              "ticks": ""
             }
            },
            "type": "histogram"
           }
          ],
          "histogram2d": [
           {
            "colorbar": {
             "outlinewidth": 0,
             "ticks": ""
            },
            "colorscale": [
             [
              0,
              "#0d0887"
             ],
             [
              0.1111111111111111,
              "#46039f"
             ],
             [
              0.2222222222222222,
              "#7201a8"
             ],
             [
              0.3333333333333333,
              "#9c179e"
             ],
             [
              0.4444444444444444,
              "#bd3786"
             ],
             [
              0.5555555555555556,
              "#d8576b"
             ],
             [
              0.6666666666666666,
              "#ed7953"
             ],
             [
              0.7777777777777778,
              "#fb9f3a"
             ],
             [
              0.8888888888888888,
              "#fdca26"
             ],
             [
              1,
              "#f0f921"
             ]
            ],
            "type": "histogram2d"
           }
          ],
          "histogram2dcontour": [
           {
            "colorbar": {
             "outlinewidth": 0,
             "ticks": ""
            },
            "colorscale": [
             [
              0,
              "#0d0887"
             ],
             [
              0.1111111111111111,
              "#46039f"
             ],
             [
              0.2222222222222222,
              "#7201a8"
             ],
             [
              0.3333333333333333,
              "#9c179e"
             ],
             [
              0.4444444444444444,
              "#bd3786"
             ],
             [
              0.5555555555555556,
              "#d8576b"
             ],
             [
              0.6666666666666666,
              "#ed7953"
             ],
             [
              0.7777777777777778,
              "#fb9f3a"
             ],
             [
              0.8888888888888888,
              "#fdca26"
             ],
             [
              1,
              "#f0f921"
             ]
            ],
            "type": "histogram2dcontour"
           }
          ],
          "mesh3d": [
           {
            "colorbar": {
             "outlinewidth": 0,
             "ticks": ""
            },
            "type": "mesh3d"
           }
          ],
          "parcoords": [
           {
            "line": {
             "colorbar": {
              "outlinewidth": 0,
              "ticks": ""
             }
            },
            "type": "parcoords"
           }
          ],
          "pie": [
           {
            "automargin": true,
            "type": "pie"
           }
          ],
          "scatter": [
           {
            "marker": {
             "colorbar": {
              "outlinewidth": 0,
              "ticks": ""
             }
            },
            "type": "scatter"
           }
          ],
          "scatter3d": [
           {
            "line": {
             "colorbar": {
              "outlinewidth": 0,
              "ticks": ""
             }
            },
            "marker": {
             "colorbar": {
              "outlinewidth": 0,
              "ticks": ""
             }
            },
            "type": "scatter3d"
           }
          ],
          "scattercarpet": [
           {
            "marker": {
             "colorbar": {
              "outlinewidth": 0,
              "ticks": ""
             }
            },
            "type": "scattercarpet"
           }
          ],
          "scattergeo": [
           {
            "marker": {
             "colorbar": {
              "outlinewidth": 0,
              "ticks": ""
             }
            },
            "type": "scattergeo"
           }
          ],
          "scattergl": [
           {
            "marker": {
             "colorbar": {
              "outlinewidth": 0,
              "ticks": ""
             }
            },
            "type": "scattergl"
           }
          ],
          "scattermapbox": [
           {
            "marker": {
             "colorbar": {
              "outlinewidth": 0,
              "ticks": ""
             }
            },
            "type": "scattermapbox"
           }
          ],
          "scatterpolar": [
           {
            "marker": {
             "colorbar": {
              "outlinewidth": 0,
              "ticks": ""
             }
            },
            "type": "scatterpolar"
           }
          ],
          "scatterpolargl": [
           {
            "marker": {
             "colorbar": {
              "outlinewidth": 0,
              "ticks": ""
             }
            },
            "type": "scatterpolargl"
           }
          ],
          "scatterternary": [
           {
            "marker": {
             "colorbar": {
              "outlinewidth": 0,
              "ticks": ""
             }
            },
            "type": "scatterternary"
           }
          ],
          "surface": [
           {
            "colorbar": {
             "outlinewidth": 0,
             "ticks": ""
            },
            "colorscale": [
             [
              0,
              "#0d0887"
             ],
             [
              0.1111111111111111,
              "#46039f"
             ],
             [
              0.2222222222222222,
              "#7201a8"
             ],
             [
              0.3333333333333333,
              "#9c179e"
             ],
             [
              0.4444444444444444,
              "#bd3786"
             ],
             [
              0.5555555555555556,
              "#d8576b"
             ],
             [
              0.6666666666666666,
              "#ed7953"
             ],
             [
              0.7777777777777778,
              "#fb9f3a"
             ],
             [
              0.8888888888888888,
              "#fdca26"
             ],
             [
              1,
              "#f0f921"
             ]
            ],
            "type": "surface"
           }
          ],
          "table": [
           {
            "cells": {
             "fill": {
              "color": "#EBF0F8"
             },
             "line": {
              "color": "white"
             }
            },
            "header": {
             "fill": {
              "color": "#C8D4E3"
             },
             "line": {
              "color": "white"
             }
            },
            "type": "table"
           }
          ]
         },
         "layout": {
          "annotationdefaults": {
           "arrowcolor": "#2a3f5f",
           "arrowhead": 0,
           "arrowwidth": 1
          },
          "coloraxis": {
           "colorbar": {
            "outlinewidth": 0,
            "ticks": ""
           }
          },
          "colorscale": {
           "diverging": [
            [
             0,
             "#8e0152"
            ],
            [
             0.1,
             "#c51b7d"
            ],
            [
             0.2,
             "#de77ae"
            ],
            [
             0.3,
             "#f1b6da"
            ],
            [
             0.4,
             "#fde0ef"
            ],
            [
             0.5,
             "#f7f7f7"
            ],
            [
             0.6,
             "#e6f5d0"
            ],
            [
             0.7,
             "#b8e186"
            ],
            [
             0.8,
             "#7fbc41"
            ],
            [
             0.9,
             "#4d9221"
            ],
            [
             1,
             "#276419"
            ]
           ],
           "sequential": [
            [
             0,
             "#0d0887"
            ],
            [
             0.1111111111111111,
             "#46039f"
            ],
            [
             0.2222222222222222,
             "#7201a8"
            ],
            [
             0.3333333333333333,
             "#9c179e"
            ],
            [
             0.4444444444444444,
             "#bd3786"
            ],
            [
             0.5555555555555556,
             "#d8576b"
            ],
            [
             0.6666666666666666,
             "#ed7953"
            ],
            [
             0.7777777777777778,
             "#fb9f3a"
            ],
            [
             0.8888888888888888,
             "#fdca26"
            ],
            [
             1,
             "#f0f921"
            ]
           ],
           "sequentialminus": [
            [
             0,
             "#0d0887"
            ],
            [
             0.1111111111111111,
             "#46039f"
            ],
            [
             0.2222222222222222,
             "#7201a8"
            ],
            [
             0.3333333333333333,
             "#9c179e"
            ],
            [
             0.4444444444444444,
             "#bd3786"
            ],
            [
             0.5555555555555556,
             "#d8576b"
            ],
            [
             0.6666666666666666,
             "#ed7953"
            ],
            [
             0.7777777777777778,
             "#fb9f3a"
            ],
            [
             0.8888888888888888,
             "#fdca26"
            ],
            [
             1,
             "#f0f921"
            ]
           ]
          },
          "colorway": [
           "#636efa",
           "#EF553B",
           "#00cc96",
           "#ab63fa",
           "#FFA15A",
           "#19d3f3",
           "#FF6692",
           "#B6E880",
           "#FF97FF",
           "#FECB52"
          ],
          "font": {
           "color": "#2a3f5f"
          },
          "geo": {
           "bgcolor": "white",
           "lakecolor": "white",
           "landcolor": "#E5ECF6",
           "showlakes": true,
           "showland": true,
           "subunitcolor": "white"
          },
          "hoverlabel": {
           "align": "left"
          },
          "hovermode": "closest",
          "mapbox": {
           "style": "light"
          },
          "paper_bgcolor": "white",
          "plot_bgcolor": "#E5ECF6",
          "polar": {
           "angularaxis": {
            "gridcolor": "white",
            "linecolor": "white",
            "ticks": ""
           },
           "bgcolor": "#E5ECF6",
           "radialaxis": {
            "gridcolor": "white",
            "linecolor": "white",
            "ticks": ""
           }
          },
          "scene": {
           "xaxis": {
            "backgroundcolor": "#E5ECF6",
            "gridcolor": "white",
            "gridwidth": 2,
            "linecolor": "white",
            "showbackground": true,
            "ticks": "",
            "zerolinecolor": "white"
           },
           "yaxis": {
            "backgroundcolor": "#E5ECF6",
            "gridcolor": "white",
            "gridwidth": 2,
            "linecolor": "white",
            "showbackground": true,
            "ticks": "",
            "zerolinecolor": "white"
           },
           "zaxis": {
            "backgroundcolor": "#E5ECF6",
            "gridcolor": "white",
            "gridwidth": 2,
            "linecolor": "white",
            "showbackground": true,
            "ticks": "",
            "zerolinecolor": "white"
           }
          },
          "shapedefaults": {
           "line": {
            "color": "#2a3f5f"
           }
          },
          "ternary": {
           "aaxis": {
            "gridcolor": "white",
            "linecolor": "white",
            "ticks": ""
           },
           "baxis": {
            "gridcolor": "white",
            "linecolor": "white",
            "ticks": ""
           },
           "bgcolor": "#E5ECF6",
           "caxis": {
            "gridcolor": "white",
            "linecolor": "white",
            "ticks": ""
           }
          },
          "title": {
           "x": 0.05
          },
          "xaxis": {
           "automargin": true,
           "gridcolor": "white",
           "linecolor": "white",
           "ticks": "",
           "title": {
            "standoff": 15
           },
           "zerolinecolor": "white",
           "zerolinewidth": 2
          },
          "yaxis": {
           "automargin": true,
           "gridcolor": "white",
           "linecolor": "white",
           "ticks": "",
           "title": {
            "standoff": 15
           },
           "zerolinecolor": "white",
           "zerolinewidth": 2
          }
         }
        },
        "width": 1000
       }
      },
      "text/html": [
       "<div>\n",
       "        \n",
       "        \n",
       "            <div id=\"4c4c7e8c-5e10-4234-a730-5d5305e2a285\" class=\"plotly-graph-div\" style=\"height:1000px; width:1000px;\"></div>\n",
       "            <script type=\"text/javascript\">\n",
       "                require([\"plotly\"], function(Plotly) {\n",
       "                    window.PLOTLYENV=window.PLOTLYENV || {};\n",
       "                    \n",
       "                if (document.getElementById(\"4c4c7e8c-5e10-4234-a730-5d5305e2a285\")) {\n",
       "                    Plotly.newPlot(\n",
       "                        '4c4c7e8c-5e10-4234-a730-5d5305e2a285',\n",
       "                        [{\"cells\": {\"values\": [[1, 2, 3, 4, 5, 6, 7, 8, 9, 10, 11, 12, 13, 14, 15, 16, 17, 18, 19, 20], [\"Lil Wayne (77)\", \"Drake (63)\", \"Chris Brown (60)\", \"Nicki Minaj (58)\", \"Kanye West (58)\", \"DJ Khaled (49)\", \"Ludacris (39)\", \"Jay-Z (37)\", \"Future (35)\", \"Snoop Dogg (34)\", \"T-Pain (33)\", \"T.I. (32)\", \"Meek Mill (32)\", \"Pitbull (31)\", \"Justin Bieber (30)\", \"Eminem (29)\", \"2 Chainz (29)\", \"Rick Ross (29)\", \"Big Sean (29)\", \"Nelly (28)\"], [\"Lil Wayne (0.0343)\", \"Chris Brown (0.0262)\", \"Ludacris (0.0250)\", \"Nicki Minaj (0.0245)\", \"Kanye West (0.0240)\", \"DJ Khaled (0.0212)\", \"Drake (0.0169)\", \"Snoop Dogg (0.0158)\", \"R. Kelly (0.0150)\", \"Jay-Z (0.0146)\", \"Nelly (0.0141)\", \"Christina Aguilera (0.0132)\", \"LL Cool J (0.0128)\", \"Mariah Carey (0.0121)\", \"Fat Joe (0.0121)\", \"Ricky Martin (0.0117)\", \"T-Pain (0.0110)\", \"Eminem (0.0107)\", \"Brandy (0.0104)\", \"Justin Bieber (0.0105)\"], [\"Lil Wayne (103)\", \"Drake (87)\", \"Nicki Minaj (76)\", \"Kanye West (66)\", \"Chris Brown (66)\", \"Rick Ross (47)\", \"Future (45)\", \"Ludacris (41)\", \"T-Pain (41)\", \"Jay-Z (39)\", \"Big Sean (36)\", \"Travis Scott (36)\", \"Eminem (36)\", \"T.I. (35)\", \"2 Chainz (35)\", \"Meek Mill (33)\", \"DJ Khaled (33)\", \"Justin Bieber (33)\", \"Pitbull (31)\", \"Akon (31)\"]]}, \"header\": {\"values\": [\"Rank\", \"Degree\", \"Betweenness Centrality\", \"Hits\"]}, \"type\": \"table\"}],\n",
       "                        {\"height\": 1000, \"template\": {\"data\": {\"bar\": [{\"error_x\": {\"color\": \"#2a3f5f\"}, \"error_y\": {\"color\": \"#2a3f5f\"}, \"marker\": {\"line\": {\"color\": \"#E5ECF6\", \"width\": 0.5}}, \"type\": \"bar\"}], \"barpolar\": [{\"marker\": {\"line\": {\"color\": \"#E5ECF6\", \"width\": 0.5}}, \"type\": \"barpolar\"}], \"carpet\": [{\"aaxis\": {\"endlinecolor\": \"#2a3f5f\", \"gridcolor\": \"white\", \"linecolor\": \"white\", \"minorgridcolor\": \"white\", \"startlinecolor\": \"#2a3f5f\"}, \"baxis\": {\"endlinecolor\": \"#2a3f5f\", \"gridcolor\": \"white\", \"linecolor\": \"white\", \"minorgridcolor\": \"white\", \"startlinecolor\": \"#2a3f5f\"}, \"type\": \"carpet\"}], \"choropleth\": [{\"colorbar\": {\"outlinewidth\": 0, \"ticks\": \"\"}, \"type\": \"choropleth\"}], \"contour\": [{\"colorbar\": {\"outlinewidth\": 0, \"ticks\": \"\"}, \"colorscale\": [[0.0, \"#0d0887\"], [0.1111111111111111, \"#46039f\"], [0.2222222222222222, \"#7201a8\"], [0.3333333333333333, \"#9c179e\"], [0.4444444444444444, \"#bd3786\"], [0.5555555555555556, \"#d8576b\"], [0.6666666666666666, \"#ed7953\"], [0.7777777777777778, \"#fb9f3a\"], [0.8888888888888888, \"#fdca26\"], [1.0, \"#f0f921\"]], \"type\": \"contour\"}], \"contourcarpet\": [{\"colorbar\": {\"outlinewidth\": 0, \"ticks\": \"\"}, \"type\": \"contourcarpet\"}], \"heatmap\": [{\"colorbar\": {\"outlinewidth\": 0, \"ticks\": \"\"}, \"colorscale\": [[0.0, \"#0d0887\"], [0.1111111111111111, \"#46039f\"], [0.2222222222222222, \"#7201a8\"], [0.3333333333333333, \"#9c179e\"], [0.4444444444444444, \"#bd3786\"], [0.5555555555555556, \"#d8576b\"], [0.6666666666666666, \"#ed7953\"], [0.7777777777777778, \"#fb9f3a\"], [0.8888888888888888, \"#fdca26\"], [1.0, \"#f0f921\"]], \"type\": \"heatmap\"}], \"heatmapgl\": [{\"colorbar\": {\"outlinewidth\": 0, \"ticks\": \"\"}, \"colorscale\": [[0.0, \"#0d0887\"], [0.1111111111111111, \"#46039f\"], [0.2222222222222222, \"#7201a8\"], [0.3333333333333333, \"#9c179e\"], [0.4444444444444444, \"#bd3786\"], [0.5555555555555556, \"#d8576b\"], [0.6666666666666666, \"#ed7953\"], [0.7777777777777778, \"#fb9f3a\"], [0.8888888888888888, \"#fdca26\"], [1.0, \"#f0f921\"]], \"type\": \"heatmapgl\"}], \"histogram\": [{\"marker\": {\"colorbar\": {\"outlinewidth\": 0, \"ticks\": \"\"}}, \"type\": \"histogram\"}], \"histogram2d\": [{\"colorbar\": {\"outlinewidth\": 0, \"ticks\": \"\"}, \"colorscale\": [[0.0, \"#0d0887\"], [0.1111111111111111, \"#46039f\"], [0.2222222222222222, \"#7201a8\"], [0.3333333333333333, \"#9c179e\"], [0.4444444444444444, \"#bd3786\"], [0.5555555555555556, \"#d8576b\"], [0.6666666666666666, \"#ed7953\"], [0.7777777777777778, \"#fb9f3a\"], [0.8888888888888888, \"#fdca26\"], [1.0, \"#f0f921\"]], \"type\": \"histogram2d\"}], \"histogram2dcontour\": [{\"colorbar\": {\"outlinewidth\": 0, \"ticks\": \"\"}, \"colorscale\": [[0.0, \"#0d0887\"], [0.1111111111111111, \"#46039f\"], [0.2222222222222222, \"#7201a8\"], [0.3333333333333333, \"#9c179e\"], [0.4444444444444444, \"#bd3786\"], [0.5555555555555556, \"#d8576b\"], [0.6666666666666666, \"#ed7953\"], [0.7777777777777778, \"#fb9f3a\"], [0.8888888888888888, \"#fdca26\"], [1.0, \"#f0f921\"]], \"type\": \"histogram2dcontour\"}], \"mesh3d\": [{\"colorbar\": {\"outlinewidth\": 0, \"ticks\": \"\"}, \"type\": \"mesh3d\"}], \"parcoords\": [{\"line\": {\"colorbar\": {\"outlinewidth\": 0, \"ticks\": \"\"}}, \"type\": \"parcoords\"}], \"pie\": [{\"automargin\": true, \"type\": \"pie\"}], \"scatter\": [{\"marker\": {\"colorbar\": {\"outlinewidth\": 0, \"ticks\": \"\"}}, \"type\": \"scatter\"}], \"scatter3d\": [{\"line\": {\"colorbar\": {\"outlinewidth\": 0, \"ticks\": \"\"}}, \"marker\": {\"colorbar\": {\"outlinewidth\": 0, \"ticks\": \"\"}}, \"type\": \"scatter3d\"}], \"scattercarpet\": [{\"marker\": {\"colorbar\": {\"outlinewidth\": 0, \"ticks\": \"\"}}, \"type\": \"scattercarpet\"}], \"scattergeo\": [{\"marker\": {\"colorbar\": {\"outlinewidth\": 0, \"ticks\": \"\"}}, \"type\": \"scattergeo\"}], \"scattergl\": [{\"marker\": {\"colorbar\": {\"outlinewidth\": 0, \"ticks\": \"\"}}, \"type\": \"scattergl\"}], \"scattermapbox\": [{\"marker\": {\"colorbar\": {\"outlinewidth\": 0, \"ticks\": \"\"}}, \"type\": \"scattermapbox\"}], \"scatterpolar\": [{\"marker\": {\"colorbar\": {\"outlinewidth\": 0, \"ticks\": \"\"}}, \"type\": \"scatterpolar\"}], \"scatterpolargl\": [{\"marker\": {\"colorbar\": {\"outlinewidth\": 0, \"ticks\": \"\"}}, \"type\": \"scatterpolargl\"}], \"scatterternary\": [{\"marker\": {\"colorbar\": {\"outlinewidth\": 0, \"ticks\": \"\"}}, \"type\": \"scatterternary\"}], \"surface\": [{\"colorbar\": {\"outlinewidth\": 0, \"ticks\": \"\"}, \"colorscale\": [[0.0, \"#0d0887\"], [0.1111111111111111, \"#46039f\"], [0.2222222222222222, \"#7201a8\"], [0.3333333333333333, \"#9c179e\"], [0.4444444444444444, \"#bd3786\"], [0.5555555555555556, \"#d8576b\"], [0.6666666666666666, \"#ed7953\"], [0.7777777777777778, \"#fb9f3a\"], [0.8888888888888888, \"#fdca26\"], [1.0, \"#f0f921\"]], \"type\": \"surface\"}], \"table\": [{\"cells\": {\"fill\": {\"color\": \"#EBF0F8\"}, \"line\": {\"color\": \"white\"}}, \"header\": {\"fill\": {\"color\": \"#C8D4E3\"}, \"line\": {\"color\": \"white\"}}, \"type\": \"table\"}]}, \"layout\": {\"annotationdefaults\": {\"arrowcolor\": \"#2a3f5f\", \"arrowhead\": 0, \"arrowwidth\": 1}, \"coloraxis\": {\"colorbar\": {\"outlinewidth\": 0, \"ticks\": \"\"}}, \"colorscale\": {\"diverging\": [[0, \"#8e0152\"], [0.1, \"#c51b7d\"], [0.2, \"#de77ae\"], [0.3, \"#f1b6da\"], [0.4, \"#fde0ef\"], [0.5, \"#f7f7f7\"], [0.6, \"#e6f5d0\"], [0.7, \"#b8e186\"], [0.8, \"#7fbc41\"], [0.9, \"#4d9221\"], [1, \"#276419\"]], \"sequential\": [[0.0, \"#0d0887\"], [0.1111111111111111, \"#46039f\"], [0.2222222222222222, \"#7201a8\"], [0.3333333333333333, \"#9c179e\"], [0.4444444444444444, \"#bd3786\"], [0.5555555555555556, \"#d8576b\"], [0.6666666666666666, \"#ed7953\"], [0.7777777777777778, \"#fb9f3a\"], [0.8888888888888888, \"#fdca26\"], [1.0, \"#f0f921\"]], \"sequentialminus\": [[0.0, \"#0d0887\"], [0.1111111111111111, \"#46039f\"], [0.2222222222222222, \"#7201a8\"], [0.3333333333333333, \"#9c179e\"], [0.4444444444444444, \"#bd3786\"], [0.5555555555555556, \"#d8576b\"], [0.6666666666666666, \"#ed7953\"], [0.7777777777777778, \"#fb9f3a\"], [0.8888888888888888, \"#fdca26\"], [1.0, \"#f0f921\"]]}, \"colorway\": [\"#636efa\", \"#EF553B\", \"#00cc96\", \"#ab63fa\", \"#FFA15A\", \"#19d3f3\", \"#FF6692\", \"#B6E880\", \"#FF97FF\", \"#FECB52\"], \"font\": {\"color\": \"#2a3f5f\"}, \"geo\": {\"bgcolor\": \"white\", \"lakecolor\": \"white\", \"landcolor\": \"#E5ECF6\", \"showlakes\": true, \"showland\": true, \"subunitcolor\": \"white\"}, \"hoverlabel\": {\"align\": \"left\"}, \"hovermode\": \"closest\", \"mapbox\": {\"style\": \"light\"}, \"paper_bgcolor\": \"white\", \"plot_bgcolor\": \"#E5ECF6\", \"polar\": {\"angularaxis\": {\"gridcolor\": \"white\", \"linecolor\": \"white\", \"ticks\": \"\"}, \"bgcolor\": \"#E5ECF6\", \"radialaxis\": {\"gridcolor\": \"white\", \"linecolor\": \"white\", \"ticks\": \"\"}}, \"scene\": {\"xaxis\": {\"backgroundcolor\": \"#E5ECF6\", \"gridcolor\": \"white\", \"gridwidth\": 2, \"linecolor\": \"white\", \"showbackground\": true, \"ticks\": \"\", \"zerolinecolor\": \"white\"}, \"yaxis\": {\"backgroundcolor\": \"#E5ECF6\", \"gridcolor\": \"white\", \"gridwidth\": 2, \"linecolor\": \"white\", \"showbackground\": true, \"ticks\": \"\", \"zerolinecolor\": \"white\"}, \"zaxis\": {\"backgroundcolor\": \"#E5ECF6\", \"gridcolor\": \"white\", \"gridwidth\": 2, \"linecolor\": \"white\", \"showbackground\": true, \"ticks\": \"\", \"zerolinecolor\": \"white\"}}, \"shapedefaults\": {\"line\": {\"color\": \"#2a3f5f\"}}, \"ternary\": {\"aaxis\": {\"gridcolor\": \"white\", \"linecolor\": \"white\", \"ticks\": \"\"}, \"baxis\": {\"gridcolor\": \"white\", \"linecolor\": \"white\", \"ticks\": \"\"}, \"bgcolor\": \"#E5ECF6\", \"caxis\": {\"gridcolor\": \"white\", \"linecolor\": \"white\", \"ticks\": \"\"}}, \"title\": {\"x\": 0.05}, \"xaxis\": {\"automargin\": true, \"gridcolor\": \"white\", \"linecolor\": \"white\", \"ticks\": \"\", \"title\": {\"standoff\": 15}, \"zerolinecolor\": \"white\", \"zerolinewidth\": 2}, \"yaxis\": {\"automargin\": true, \"gridcolor\": \"white\", \"linecolor\": \"white\", \"ticks\": \"\", \"title\": {\"standoff\": 15}, \"zerolinecolor\": \"white\", \"zerolinewidth\": 2}}}, \"width\": 1000},\n",
       "                        {\"responsive\": true}\n",
       "                    ).then(function(){\n",
       "                            \n",
       "var gd = document.getElementById('4c4c7e8c-5e10-4234-a730-5d5305e2a285');\n",
       "var x = new MutationObserver(function (mutations, observer) {{\n",
       "        var display = window.getComputedStyle(gd).display;\n",
       "        if (!display || display === 'none') {{\n",
       "            console.log([gd, 'removed!']);\n",
       "            Plotly.purge(gd);\n",
       "            observer.disconnect();\n",
       "        }}\n",
       "}});\n",
       "\n",
       "// Listen for the removal of the full notebook cells\n",
       "var notebookContainer = gd.closest('#notebook-container');\n",
       "if (notebookContainer) {{\n",
       "    x.observe(notebookContainer, {childList: true});\n",
       "}}\n",
       "\n",
       "// Listen for the clearing of the current output cell\n",
       "var outputEl = gd.closest('.output');\n",
       "if (outputEl) {{\n",
       "    x.observe(outputEl, {childList: true});\n",
       "}}\n",
       "\n",
       "                        })\n",
       "                };\n",
       "                });\n",
       "            </script>\n",
       "        </div>"
      ]
     },
     "metadata": {},
     "output_type": "display_data"
    }
   ],
   "source": [
    "import plotly\n",
    "import plotly.graph_objects as go\n",
    "# import os\n",
    "\n",
    "# if not os.path.exists(\"Network-Science-Project\"):\n",
    "#     os.mkdir(\"Network-Science-Project\")\n",
    "\n",
    "fig = go.Figure(data=[go.Table(header=dict(values=['Rank', \"Degree\", \"Betweenness Centrality\", \"Hits\"]),\n",
    "                              cells=dict(values=[[1,2,3,4,5,6,7,8,9,10,11,12,13,14,15,16,17,18,19,20],\n",
    "                                                [\"Lil Wayne (77)\", \"Drake (63)\", \"Chris Brown (60)\",\n",
    "                                                \"Nicki Minaj (58)\", \"Kanye West (58)\", \"DJ Khaled (49)\",\n",
    "                                                \"Ludacris (39)\", \"Jay-Z (37)\", \"Future (35)\", \"Snoop Dogg (34)\",\n",
    "                                                 \"T-Pain (33)\", \"T.I. (32)\", \"Meek Mill (32)\", \"Pitbull (31)\",\n",
    "                                                \"Justin Bieber (30)\", \"Eminem (29)\", \"2 Chainz (29)\", \"Rick Ross (29)\",\n",
    "                                                \"Big Sean (29)\", \"Nelly (28)\"],\n",
    "                                                [\"Lil Wayne (0.0343)\", \"Chris Brown (0.0262)\",\n",
    "                                                \"Ludacris (0.0250)\", \"Nicki Minaj (0.0245)\", \"Kanye West (0.0240)\", \"DJ Khaled (0.0212)\", \"Drake (0.0169)\", \"Snoop Dogg (0.0158)\",\n",
    "                                                 \"R. Kelly (0.0150)\", \"Jay-Z (0.0146)\", \"Nelly (0.0141)\", \"Christina Aguilera (0.0132)\",\n",
    "                                                \"LL Cool J (0.0128)\", \"Mariah Carey (0.0121)\", \"Fat Joe (0.0121)\", \"Ricky Martin (0.0117)\", \"T-Pain (0.0110)\", \"Eminem (0.0107)\",\n",
    "                                                \"Brandy (0.0104)\", \"Justin Bieber (0.0105)\"], \n",
    "                                                [\"Lil Wayne (103)\", \"Drake (87)\", \"Nicki Minaj (76)\",\n",
    "                                                \"Kanye West (66)\", \"Chris Brown (66)\", \"Rick Ross (47)\",\n",
    "                                                \"Future (45)\", \"Ludacris (41)\", \"T-Pain (41)\", \"Jay-Z (39)\",\n",
    "                                                 \"Big Sean (36)\", \"Travis Scott (36)\", \"Eminem (36)\", \"T.I. (35)\",\n",
    "                                                \"2 Chainz (35)\", \"Meek Mill (33)\", \"DJ Khaled (33)\", \"Justin Bieber (33)\",\n",
    "                                                \"Pitbull (31)\", \"Akon (31)\"]]))\n",
    "                                                 ])\n",
    "fig.update_layout(width=1000, height=1000)\n",
    "fig.show()\n",
    "plotly.io.write_image(fig, \"analysis\", format='jpeg',\n",
    "                     scale=None, width=None, height=None)"
   ]
  },
  {
   "cell_type": "code",
   "execution_count": null,
   "metadata": {},
   "outputs": [],
   "source": []
  }
 ],
 "metadata": {
  "kernelspec": {
   "display_name": "Python 3",
   "language": "python",
   "name": "python3"
  },
  "language_info": {
   "codemirror_mode": {
    "name": "ipython",
    "version": 3
   },
   "file_extension": ".py",
   "mimetype": "text/x-python",
   "name": "python",
   "nbconvert_exporter": "python",
   "pygments_lexer": "ipython3",
   "version": "3.7.4"
  }
 },
 "nbformat": 4,
 "nbformat_minor": 2
}
